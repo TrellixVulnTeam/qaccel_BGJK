{
 "cells": [
  {
   "cell_type": "code",
   "execution_count": null,
   "metadata": {
    "collapsed": true
   },
   "outputs": [],
   "source": [
    "%matplotlib inline\n",
    "from matplotlib import pyplot as plt\n",
    "import seaborn as sns\n",
    "sns.set_style('ticks')\n",
    "import pandas as pd"
   ]
  },
  {
   "cell_type": "code",
   "execution_count": null,
   "metadata": {
    "collapsed": true
   },
   "outputs": [],
   "source": [
    "df = pd.read_pickle(\"dag.pickl\")"
   ]
  },
  {
   "cell_type": "code",
   "execution_count": null,
   "metadata": {
    "collapsed": true
   },
   "outputs": [],
   "source": [
    "def filter_first(group):\n",
    "    try:\n",
    "        iloc = group[group['converged']]['steps'].argmin()\n",
    "        return group.iloc[iloc]\n",
    "    except ValueError:\n",
    "        return None"
   ]
  },
  {
   "cell_type": "code",
   "execution_count": null,
   "metadata": {
    "collapsed": true
   },
   "outputs": [],
   "source": [
    "def plow(x): return np.percentile(x, 25)\n",
    "def phig(x): return np.percentile(x, 75)"
   ]
  },
  {
   "cell_type": "code",
   "execution_count": null,
   "metadata": {
    "collapsed": false
   },
   "outputs": [],
   "source": [
    "keep = ['agg', 'steps', 'adapt_i']\n",
    "agg = ['median', plow, phig]\n",
    "grouped = df.groupby([\"tpr\", \"spt\", 'clone']) \\\n",
    "                .apply(filter_first)          \\\n",
    "                [keep]                        \\\n",
    "                .reset_index()                \\\n",
    "                .groupby(['tpr', 'spt'])      \\\n",
    "                .agg(agg)                     \\\n",
    "                [keep]                        \\\n",
    "                .reset_index()\n",
    "\n",
    "grouped"
   ]
  },
  {
   "cell_type": "code",
   "execution_count": null,
   "metadata": {
    "collapsed": false
   },
   "outputs": [],
   "source": [
    "PP = 'agg'\n",
    "plt.subplots(figsize=(7,5))\n",
    "\n",
    "for tpr, color in zip(grouped['tpr'].unique(), sns.color_palette()):\n",
    "    pdf = grouped[grouped['tpr'] == tpr]\n",
    "    plt.plot(\n",
    "        1/pdf['spt'],\n",
    "        pdf[PP, 'median'],\n",
    "        'o-',\n",
    "        label=\"{}\".format(tpr),\n",
    "        color=color,\n",
    "    )\n",
    "    plt.fill_between(\n",
    "        1/pdf['spt'],\n",
    "        pdf[PP, 'phig'],\n",
    "        pdf[PP, 'plow'],\n",
    "        color=color,\n",
    "        alpha=0.5,\n",
    "        zorder=-1,\n",
    "    )\n",
    "    \n",
    "    \n",
    "plt.xscale('log')\n",
    "plt.xlabel('Adaptive Frequency', fontsize=18)\n",
    "\n",
    "#plt.yscale('log')\n",
    "plt.ylabel('Aggregate Sampling', fontsize=18)\n",
    "\n",
    "plt.legend(loc='best', fontsize=16)\n",
    "plt.tight_layout()"
   ]
  },
  {
   "cell_type": "code",
   "execution_count": null,
   "metadata": {
    "collapsed": false
   },
   "outputs": [],
   "source": [
    "PP = 'steps'\n",
    "plt.subplots(figsize=(7,5))\n",
    "\n",
    "\n",
    "for tpr, color in zip(grouped['tpr'].unique(), sns.color_palette()):\n",
    "    pdf = grouped[grouped['tpr'] == tpr]\n",
    "    plt.plot(\n",
    "        1/pdf['spt'],\n",
    "        pdf[PP, 'median'],\n",
    "        'o-',\n",
    "        label=\"{}\".format(tpr),\n",
    "        color=color,\n",
    "    )\n",
    "    plt.fill_between(\n",
    "        1/pdf['spt'],\n",
    "        pdf[PP, 'phig'],\n",
    "        pdf[PP, 'plow'],\n",
    "        color=color,\n",
    "        alpha=0.5,\n",
    "        zorder=-1,\n",
    "    )\n",
    "    \n",
    "plt.legend(loc='best', fontsize=16)\n",
    "    \n",
    "plt.xscale('log')\n",
    "plt.xlabel('Adaptive Frequency', fontsize=18)\n",
    "\n",
    "plt.yscale('log')\n",
    "plt.ylabel('Simulated Walltime', fontsize=18)\n",
    "\n",
    "plt.legend(loc='best', fontsize=16)\n",
    "plt.tight_layout()"
   ]
  },
  {
   "cell_type": "code",
   "execution_count": null,
   "metadata": {
    "collapsed": false
   },
   "outputs": [],
   "source": [
    "PP = 'adapt_i'\n",
    "plt.subplots(figsize=(7,5))\n",
    "\n",
    "\n",
    "for tpr, color in zip(grouped['tpr'].unique(), sns.color_palette()):\n",
    "    pdf = grouped[grouped['tpr'] == tpr]\n",
    "    plt.plot(\n",
    "        1/pdf['spt'],\n",
    "        pdf[PP, 'median'],\n",
    "        'o-',\n",
    "        label=\"{}\".format(tpr),\n",
    "        color=color,\n",
    "    )\n",
    "    plt.fill_between(\n",
    "        1/pdf['spt'],\n",
    "        pdf[PP, 'phig'],\n",
    "        pdf[PP, 'plow'],\n",
    "        color=color,\n",
    "        alpha=0.5,\n",
    "        zorder=-1,\n",
    "    )\n",
    "    \n",
    "plt.legend(loc='best', fontsize=16)\n",
    "    \n",
    "plt.xscale('log')\n",
    "plt.xlabel('Adaptive Frequency', fontsize=18)\n",
    "\n",
    "plt.yscale('symlog')\n",
    "plt.ylabel('Adaptive Rounds', fontsize=18)\n",
    "\n",
    "plt.legend(loc='best', fontsize=16)\n",
    "plt.tight_layout()"
   ]
  }
 ],
 "metadata": {
  "kernelspec": {
   "display_name": "Python 3",
   "language": "python",
   "name": "python3"
  },
  "language_info": {
   "codemirror_mode": {
    "name": "ipython",
    "version": 3
   },
   "file_extension": ".py",
   "mimetype": "text/x-python",
   "name": "python",
   "nbconvert_exporter": "python",
   "pygments_lexer": "ipython3",
   "version": "3.4.3"
  }
 },
 "nbformat": 4,
 "nbformat_minor": 0
}
